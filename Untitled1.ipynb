{
 "cells": [
  {
   "cell_type": "code",
   "execution_count": 1,
   "metadata": {},
   "outputs": [],
   "source": [
    "from pyspark.sql import SparkSession"
   ]
  },
  {
   "cell_type": "markdown",
   "metadata": {},
   "source": [
    "# SparkSession is an entry point to PySpark's functionality within a program. This entry point lets you access the features of Spark through Python. "
   ]
  },
  {
   "cell_type": "code",
   "execution_count": 2,
   "metadata": {},
   "outputs": [],
   "source": [
    "spark = (SparkSession.builder.appName(\"Converting articles into BoW Vectors\").getOrCreate())"
   ]
  },
  {
   "cell_type": "code",
   "execution_count": 3,
   "metadata": {},
   "outputs": [
    {
     "data": {
      "text/html": [
       "\n",
       "            <div>\n",
       "                <p><b>SparkSession - in-memory</b></p>\n",
       "                \n",
       "        <div>\n",
       "            <p><b>SparkContext</b></p>\n",
       "\n",
       "            <p><a href=\"http://DESKTOP-MLVSQCI:4040\">Spark UI</a></p>\n",
       "\n",
       "            <dl>\n",
       "              <dt>Version</dt>\n",
       "                <dd><code>v3.1.1</code></dd>\n",
       "              <dt>Master</dt>\n",
       "                <dd><code>local[*]</code></dd>\n",
       "              <dt>AppName</dt>\n",
       "                <dd><code>Converting articles into BoW Vectors</code></dd>\n",
       "            </dl>\n",
       "        </div>\n",
       "        \n",
       "            </div>\n",
       "        "
      ],
      "text/plain": [
       "<pyspark.sql.session.SparkSession at 0x28ef3bf9ac0>"
      ]
     },
     "execution_count": 3,
     "metadata": {},
     "output_type": "execute_result"
    }
   ],
   "source": [
    "spark"
   ]
  },
  {
   "cell_type": "code",
   "execution_count": 4,
   "metadata": {},
   "outputs": [],
   "source": [
    "data = spark.read.csv(\"all-the-news-2-1.csv\")"
   ]
  },
  {
   "cell_type": "markdown",
   "metadata": {},
   "source": [
    "# The older version of PySpark used to store the data in special kind of Data Structure called Resilient Distributed Dataset (RDD). The special feature of this data structure is that it is Row Major. "
   ]
  },
  {
   "cell_type": "markdown",
   "metadata": {},
   "source": [
    "# The new version of PySpark has also introduced a column major data structure called PySpark DataFrames. "
   ]
  },
  {
   "cell_type": "code",
   "execution_count": 5,
   "metadata": {},
   "outputs": [
    {
     "name": "stdout",
     "output_type": "stream",
     "text": [
      "DataFrame[_c0: string, _c1: string, _c2: string, _c3: string, _c4: string, _c5: string, _c6: string, _c7: string, _c8: string, _c9: string, _c10: string, _c11: string]\n"
     ]
    }
   ],
   "source": [
    "print(data)"
   ]
  },
  {
   "cell_type": "code",
   "execution_count": 6,
   "metadata": {},
   "outputs": [
    {
     "name": "stdout",
     "output_type": "stream",
     "text": [
      "+--------------------+--------------------+-------------------+----------------+-----+----+-----------+--------------------+--------------------+--------------------+--------------------+------------+\n",
      "|                 _c0|                 _c1|                _c2|             _c3|  _c4| _c5|        _c6|                 _c7|                 _c8|                 _c9|                _c10|        _c11|\n",
      "+--------------------+--------------------+-------------------+----------------+-----+----+-----------+--------------------+--------------------+--------------------+--------------------+------------+\n",
      "|                null|          Unnamed: 0|               date|            year|month| day|     author|               title|             article|                 url|             section| publication|\n",
      "|                   0|                   0|2016-12-09 18:31:00|            2016| 12.0|   9|Lee Drutman|We should take co...|\"This post is par...|             however| several critics ...| for example|\n",
      "|                   1|                   1|2016-10-07 21:26:46|            2016| 10.0|   7|Scott Davis|Colts GM Ryan Gri...| The Indianapolis...|                null|                null|        null|\n",
      "|The highest-paid ...|https://www.busin...|               null|Business Insider| null|null|       null|                null|                null|                null|                null|        null|\n",
      "|                   2|                   2|2018-01-26 00:00:00|            2018|  1.0|  26|       null|Trump denies repo...|DAVOS, Switzerlan...|https://www.reute...|               Davos|     Reuters|\n",
      "+--------------------+--------------------+-------------------+----------------+-----+----+-----------+--------------------+--------------------+--------------------+--------------------+------------+\n",
      "only showing top 5 rows\n",
      "\n"
     ]
    }
   ],
   "source": [
    "data.show(5)"
   ]
  },
  {
   "cell_type": "code",
   "execution_count": 7,
   "metadata": {},
   "outputs": [
    {
     "name": "stdout",
     "output_type": "stream",
     "text": [
      "root\n",
      " |-- _c0: string (nullable = true)\n",
      " |-- _c1: string (nullable = true)\n",
      " |-- _c2: string (nullable = true)\n",
      " |-- _c3: string (nullable = true)\n",
      " |-- _c4: string (nullable = true)\n",
      " |-- _c5: string (nullable = true)\n",
      " |-- _c6: string (nullable = true)\n",
      " |-- _c7: string (nullable = true)\n",
      " |-- _c8: string (nullable = true)\n",
      " |-- _c9: string (nullable = true)\n",
      " |-- _c10: string (nullable = true)\n",
      " |-- _c11: string (nullable = true)\n",
      "\n"
     ]
    }
   ],
   "source": [
    "data.printSchema()"
   ]
  },
  {
   "cell_type": "code",
   "execution_count": 8,
   "metadata": {},
   "outputs": [
    {
     "name": "stdout",
     "output_type": "stream",
     "text": [
      "[('_c0', 'string'), ('_c1', 'string'), ('_c2', 'string'), ('_c3', 'string'), ('_c4', 'string'), ('_c5', 'string'), ('_c6', 'string'), ('_c7', 'string'), ('_c8', 'string'), ('_c9', 'string'), ('_c10', 'string'), ('_c11', 'string')]\n"
     ]
    }
   ],
   "source": [
    "print(data.dtypes)"
   ]
  },
  {
   "cell_type": "code",
   "execution_count": 9,
   "metadata": {},
   "outputs": [
    {
     "name": "stdout",
     "output_type": "stream",
     "text": [
      "+--------------------+--------------------+-------------------+----------------+-----+----+--------------------+--------------------+--------------------+--------------------+--------------------+--------------------+\n",
      "|                 _c0|                 _c1|                _c2|             _c3|  _c4| _c5|                 _c6|                 _c7|                 _c8|                 _c9|                _c10|                _c11|\n",
      "+--------------------+--------------------+-------------------+----------------+-----+----+--------------------+--------------------+--------------------+--------------------+--------------------+--------------------+\n",
      "|                null|          Unnamed: 0|               date|            year|month| day|              author|               title|             article|                 url|             section|         publication|\n",
      "|                   0|                   0|2016-12-09 18:31:00|            2016| 12.0|   9|         Lee Drutman|We should take co...|\"This post is par...|             however| several critics ...|         for example|\n",
      "|                   1|                   1|2016-10-07 21:26:46|            2016| 10.0|   7|         Scott Davis|Colts GM Ryan Gri...| The Indianapolis...|                null|                null|                null|\n",
      "|The highest-paid ...|https://www.busin...|               null|Business Insider| null|null|                null|                null|                null|                null|                null|                null|\n",
      "|                   2|                   2|2018-01-26 00:00:00|            2018|  1.0|  26|                null|Trump denies repo...|DAVOS, Switzerlan...|https://www.reute...|               Davos|             Reuters|\n",
      "|                   3|                   3|2019-06-27 00:00:00|            2019|  6.0|  27|                null|France's Sarkozy ...|PARIS (Reuters) -...|https://www.reute...|          World News|             Reuters|\n",
      "|                   4|                   4|2016-01-27 00:00:00|            2016|  1.0|  27|                null|Paris Hilton: Wom...|\"Paris Hilton arr...|https://www.tmz.c...|                null|                 TMZ|\n",
      "|                   5|                   5|2019-06-17 00:00:00|            2019|  6.0|  17|                null|ECB's Coeure: If ...|BERLIN, June 17 (...|                null|                null|                null|\n",
      "|Editing by Tassil...|https://www.reute...|         Financials|         Reuters| null|null|                null|                null|                null|                null|                null|                null|\n",
      "|                   6|                   6|2019-06-23 00:00:00|            2019|  6.0|  23|                null|Venezuela detains...|CARACAS (Reuters)...|https://www.reute...|          World News|             Reuters|\n",
      "|                   7|                   7|2018-05-02 17:09:00|            2018|  5.0|   2|   Caroline Williams|You Can Trick You...|\"If only every da...|\"\" DeGutis says. ...| paying attention...| it makes it easi...|\n",
      "|                   8|                   8|2016-05-18 13:00:06|            2016|  5.0|  18|         Mark Bergen|How to watch the ...|Google I/O, the c...|https://www.vox.c...|                null|                 Vox|\n",
      "|                   9|                   9|2017-03-02 00:00:00|            2017|  3.0|   2|            Tim Hume|China is dismissi...|China is dismissi...|https://news.vice...|                null|           Vice News|\n",
      "|                  10|                  10|2019-05-22 20:10:00|            2019|  5.0|  22|       Emily Stewart|“Elizabeth Warren...|Elizabeth Warren ...|https://www.vox.c...|                null|                 Vox|\n",
      "|                  11|                  11|2019-06-23 00:00:00|            2019|  6.0|  23|Jessica DiNapoli,...|Hudson's Bay's ch...|(Reuters) - The s...|https://www.reute...|       Business News|             Reuters|\n",
      "|                  12|                  12|2018-11-05 00:00:00|            2018| 11.0|   5|                null|Joakim Noah's Vic...|Joakim Noah's ﻿mo...|https://www.tmz.c...|                null|                 TMZ|\n",
      "|                  13|                  13|2019-05-10 00:00:00|            2019|  5.0|  10|                null|Jermaine Jackson ...|\"Jermaine Jackson...|\"\" \"\"Thriller\"\" a...| and the 2 will f...| Quincy isn't say...|\n",
      "|                  14|                  14|2019-03-28 00:00:00|            2019|  3.0|  28|                null|UK PM May presses...|LONDON (Reuters) ...|https://www.reute...|          World News|             Reuters|\n",
      "|                  15|                  15|2016-09-08 15:40:02|            2016|  9.0|   8|          Jeff Stein|Nancy Pelosi says...|\"Nancy Pelosi is ...|\"\" Skelley says. ...|           of course| but it begins lo...|\n",
      "|                  16|                  16|2017-01-11 23:10:01|            2017|  1.0|  11|        Libby Nelson|The government of...|The nonpartisan d...|https://www.vox.c...|                null|                 Vox|\n",
      "+--------------------+--------------------+-------------------+----------------+-----+----+--------------------+--------------------+--------------------+--------------------+--------------------+--------------------+\n",
      "only showing top 20 rows\n",
      "\n"
     ]
    }
   ],
   "source": [
    "data.show()"
   ]
  },
  {
   "cell_type": "code",
   "execution_count": 10,
   "metadata": {},
   "outputs": [],
   "source": [
    "from pyspark.sql.functions import col"
   ]
  },
  {
   "cell_type": "code",
   "execution_count": 11,
   "metadata": {},
   "outputs": [],
   "source": [
    "text_column = data.select(\"_c8\")"
   ]
  },
  {
   "cell_type": "code",
   "execution_count": 12,
   "metadata": {},
   "outputs": [
    {
     "name": "stdout",
     "output_type": "stream",
     "text": [
      "+--------------------+\n",
      "|                 _c8|\n",
      "+--------------------+\n",
      "|             article|\n",
      "|\"This post is par...|\n",
      "| The Indianapolis...|\n",
      "|                null|\n",
      "|DAVOS, Switzerlan...|\n",
      "|PARIS (Reuters) -...|\n",
      "|\"Paris Hilton arr...|\n",
      "|BERLIN, June 17 (...|\n",
      "|                null|\n",
      "|CARACAS (Reuters)...|\n",
      "|\"If only every da...|\n",
      "|Google I/O, the c...|\n",
      "|China is dismissi...|\n",
      "|Elizabeth Warren ...|\n",
      "|(Reuters) - The s...|\n",
      "|Joakim Noah's ﻿mo...|\n",
      "|\"Jermaine Jackson...|\n",
      "|LONDON (Reuters) ...|\n",
      "|\"Nancy Pelosi is ...|\n",
      "|The nonpartisan d...|\n",
      "+--------------------+\n",
      "only showing top 20 rows\n",
      "\n"
     ]
    }
   ],
   "source": [
    "text_column.show()"
   ]
  },
  {
   "cell_type": "code",
   "execution_count": 13,
   "metadata": {},
   "outputs": [],
   "source": [
    "text_column = data.select(data[\"_c8\"])"
   ]
  },
  {
   "cell_type": "code",
   "execution_count": 14,
   "metadata": {},
   "outputs": [
    {
     "name": "stdout",
     "output_type": "stream",
     "text": [
      "+--------------------+\n",
      "|                 _c8|\n",
      "+--------------------+\n",
      "|             article|\n",
      "|\"This post is par...|\n",
      "| The Indianapolis...|\n",
      "|                null|\n",
      "|DAVOS, Switzerlan...|\n",
      "|PARIS (Reuters) -...|\n",
      "|\"Paris Hilton arr...|\n",
      "|BERLIN, June 17 (...|\n",
      "|                null|\n",
      "|CARACAS (Reuters)...|\n",
      "|\"If only every da...|\n",
      "|Google I/O, the c...|\n",
      "|China is dismissi...|\n",
      "|Elizabeth Warren ...|\n",
      "|(Reuters) - The s...|\n",
      "|Joakim Noah's ﻿mo...|\n",
      "|\"Jermaine Jackson...|\n",
      "|LONDON (Reuters) ...|\n",
      "|\"Nancy Pelosi is ...|\n",
      "|The nonpartisan d...|\n",
      "+--------------------+\n",
      "only showing top 20 rows\n",
      "\n"
     ]
    }
   ],
   "source": [
    "text_column.show()"
   ]
  },
  {
   "cell_type": "code",
   "execution_count": 15,
   "metadata": {},
   "outputs": [],
   "source": [
    "text_column = data.select(data._c8)"
   ]
  },
  {
   "cell_type": "code",
   "execution_count": 16,
   "metadata": {},
   "outputs": [
    {
     "name": "stdout",
     "output_type": "stream",
     "text": [
      "+--------------------+\n",
      "|                 _c8|\n",
      "+--------------------+\n",
      "|             article|\n",
      "|\"This post is par...|\n",
      "| The Indianapolis...|\n",
      "|                null|\n",
      "|DAVOS, Switzerlan...|\n",
      "|PARIS (Reuters) -...|\n",
      "|\"Paris Hilton arr...|\n",
      "|BERLIN, June 17 (...|\n",
      "|                null|\n",
      "|CARACAS (Reuters)...|\n",
      "|\"If only every da...|\n",
      "|Google I/O, the c...|\n",
      "|China is dismissi...|\n",
      "|Elizabeth Warren ...|\n",
      "|(Reuters) - The s...|\n",
      "|Joakim Noah's ﻿mo...|\n",
      "|\"Jermaine Jackson...|\n",
      "|LONDON (Reuters) ...|\n",
      "|\"Nancy Pelosi is ...|\n",
      "|The nonpartisan d...|\n",
      "+--------------------+\n",
      "only showing top 20 rows\n",
      "\n"
     ]
    }
   ],
   "source": [
    "text_column.show()"
   ]
  },
  {
   "cell_type": "code",
   "execution_count": 17,
   "metadata": {},
   "outputs": [],
   "source": [
    "text_column = data.select(col(\"_c8\"))"
   ]
  },
  {
   "cell_type": "code",
   "execution_count": 18,
   "metadata": {},
   "outputs": [
    {
     "name": "stdout",
     "output_type": "stream",
     "text": [
      "+--------------------+\n",
      "|                 _c8|\n",
      "+--------------------+\n",
      "|             article|\n",
      "|\"This post is par...|\n",
      "| The Indianapolis...|\n",
      "|                null|\n",
      "|DAVOS, Switzerlan...|\n",
      "|PARIS (Reuters) -...|\n",
      "|\"Paris Hilton arr...|\n",
      "|BERLIN, June 17 (...|\n",
      "|                null|\n",
      "|CARACAS (Reuters)...|\n",
      "|\"If only every da...|\n",
      "|Google I/O, the c...|\n",
      "|China is dismissi...|\n",
      "|Elizabeth Warren ...|\n",
      "|(Reuters) - The s...|\n",
      "|Joakim Noah's ﻿mo...|\n",
      "|\"Jermaine Jackson...|\n",
      "|LONDON (Reuters) ...|\n",
      "|\"Nancy Pelosi is ...|\n",
      "|The nonpartisan d...|\n",
      "+--------------------+\n",
      "only showing top 20 rows\n",
      "\n"
     ]
    }
   ],
   "source": [
    "text_column.show()"
   ]
  },
  {
   "cell_type": "code",
   "execution_count": 19,
   "metadata": {},
   "outputs": [],
   "source": [
    "from pyspark.sql.functions import split"
   ]
  },
  {
   "cell_type": "code",
   "execution_count": 20,
   "metadata": {},
   "outputs": [],
   "source": [
    "text_column = data.select(split(col(\"_c8\"),\" \").alias(\"article\"))"
   ]
  },
  {
   "cell_type": "code",
   "execution_count": 21,
   "metadata": {},
   "outputs": [
    {
     "name": "stdout",
     "output_type": "stream",
     "text": [
      "+----------------------------------------------------------------------------------------------------+\n",
      "|                                                                                             article|\n",
      "+----------------------------------------------------------------------------------------------------+\n",
      "|                                                                                           [article]|\n",
      "|[\"This, post, is, part, of, Polyarchy,, an, independent, blog, produced, by, the, political, refo...|\n",
      "|[, The, Indianapolis, Colts, made, Andrew, Luck, the, highest-paid, player, in, NFL, history, thi...|\n",
      "|                                                                                                null|\n",
      "|[DAVOS,, Switzerland, (Reuters), -, U.S., President, Donald, Trump, denied, a, report, on, Friday...|\n",
      "|[PARIS, (Reuters), -, Former, French, president, Nicolas, Sarkozy, published, a, new, memoir, on,...|\n",
      "|[\"Paris, Hilton, arrived, at, LAX, Wednesday, dressed, to, pay, her, last, respects, to, her, unc...|\n",
      "|[BERLIN,, June, 17, (Reuters), -, ECB, board, member, Benoit, Coeure, said, in, an, interview, pu...|\n",
      "|                                                                                                null|\n",
      "|[CARACAS, (Reuters), -, Venezuelan, authorities, have, arrested, six, members, of, the, country’s...|\n",
      "|[\"If, only, every, day, could, be, like, this., You, can’t, put, your, finger, on, why:, Maybe, y...|\n",
      "|[Google, I/O,, the, company's, big, developer, conference,, kicks, off, today, (May, 18)., It's, ...|\n",
      "|[China, is, dismissing, unfavorable, media, reports, as, fake, news, because, that’s, what, Trump...|\n",
      "|[Elizabeth, Warren, is, giving, people, a, new, reason, to, pick, up, their, phones, when, a, cal...|\n",
      "|[(Reuters), -, The, success, of, Hudson’s, Bay, Co, Executive, Chairman, Richard, Baker’s, $1.3, ...|\n",
      "|[Joakim, Noah's, ﻿model, girlfriend, Lais, Ribeiro, was, so, damn, hot, in, her, thong, bikini, i...|\n",
      "|[\"Jermaine, Jackson, ﻿is, slamming, Quincy, Jones, for, removing, Michael, Jackson, references, f...|\n",
      "|[LONDON, (Reuters), -, British, Prime, Minister, Theresa, May, is, pressing, on, with, efforts, t...|\n",
      "|[\"Nancy, Pelosi, is, getting, visions, of, reclaiming, her, House, gavel., In, an, interview, pub...|\n",
      "|[The, nonpartisan, director, of, the, federal, Office, of, Government, Ethics, ripped, into, Pres...|\n",
      "+----------------------------------------------------------------------------------------------------+\n",
      "only showing top 20 rows\n",
      "\n"
     ]
    }
   ],
   "source": [
    "text_column.show(truncate=100)"
   ]
  },
  {
   "cell_type": "code",
   "execution_count": 22,
   "metadata": {},
   "outputs": [],
   "source": [
    "from pyspark.sql.functions import explode"
   ]
  },
  {
   "cell_type": "code",
   "execution_count": 23,
   "metadata": {},
   "outputs": [],
   "source": [
    "tokens = text_column.select(explode(col(\"article\")).alias(\"tokens\"))"
   ]
  },
  {
   "cell_type": "code",
   "execution_count": 24,
   "metadata": {},
   "outputs": [
    {
     "name": "stdout",
     "output_type": "stream",
     "text": [
      "+-----------+\n",
      "|     tokens|\n",
      "+-----------+\n",
      "|    article|\n",
      "|      \"This|\n",
      "|       post|\n",
      "|         is|\n",
      "|       part|\n",
      "|         of|\n",
      "| Polyarchy,|\n",
      "|         an|\n",
      "|independent|\n",
      "|       blog|\n",
      "|   produced|\n",
      "|         by|\n",
      "|        the|\n",
      "|  political|\n",
      "|     reform|\n",
      "|    program|\n",
      "|         at|\n",
      "|        New|\n",
      "|   America,|\n",
      "|          a|\n",
      "+-----------+\n",
      "only showing top 20 rows\n",
      "\n"
     ]
    }
   ],
   "source": [
    "tokens.show()"
   ]
  },
  {
   "cell_type": "code",
   "execution_count": 25,
   "metadata": {},
   "outputs": [],
   "source": [
    "from pyspark.sql.functions import lower"
   ]
  },
  {
   "cell_type": "code",
   "execution_count": 26,
   "metadata": {},
   "outputs": [],
   "source": [
    "normalized_tokens = tokens.select(lower(col(\"tokens\")).alias(\"normalized tokens\"))"
   ]
  },
  {
   "cell_type": "code",
   "execution_count": 27,
   "metadata": {},
   "outputs": [
    {
     "name": "stdout",
     "output_type": "stream",
     "text": [
      "+-----------------+\n",
      "|normalized tokens|\n",
      "+-----------------+\n",
      "|          article|\n",
      "|            \"this|\n",
      "|             post|\n",
      "|               is|\n",
      "|             part|\n",
      "|               of|\n",
      "|       polyarchy,|\n",
      "|               an|\n",
      "|      independent|\n",
      "|             blog|\n",
      "|         produced|\n",
      "|               by|\n",
      "|              the|\n",
      "|        political|\n",
      "|           reform|\n",
      "|          program|\n",
      "|               at|\n",
      "|              new|\n",
      "|         america,|\n",
      "|                a|\n",
      "+-----------------+\n",
      "only showing top 20 rows\n",
      "\n"
     ]
    }
   ],
   "source": [
    "normalized_tokens.show()"
   ]
  },
  {
   "cell_type": "code",
   "execution_count": 28,
   "metadata": {},
   "outputs": [],
   "source": [
    "from pyspark.sql.functions import regexp_extract"
   ]
  },
  {
   "cell_type": "code",
   "execution_count": 29,
   "metadata": {},
   "outputs": [],
   "source": [
    "clean_tokens = normalized_tokens.select(regexp_extract(col(\"normalized tokens\"),\"[a-z]*\",0).\n",
    "                                        alias(\"Cleaned Tokens\"))"
   ]
  },
  {
   "cell_type": "code",
   "execution_count": 30,
   "metadata": {},
   "outputs": [
    {
     "name": "stdout",
     "output_type": "stream",
     "text": [
      "+--------------+\n",
      "|Cleaned Tokens|\n",
      "+--------------+\n",
      "|       article|\n",
      "|              |\n",
      "|          post|\n",
      "|            is|\n",
      "|          part|\n",
      "|            of|\n",
      "|     polyarchy|\n",
      "|            an|\n",
      "|   independent|\n",
      "|          blog|\n",
      "|      produced|\n",
      "|            by|\n",
      "|           the|\n",
      "|     political|\n",
      "|        reform|\n",
      "|       program|\n",
      "|            at|\n",
      "|           new|\n",
      "|       america|\n",
      "|             a|\n",
      "+--------------+\n",
      "only showing top 20 rows\n",
      "\n"
     ]
    }
   ],
   "source": [
    "clean_tokens.show()"
   ]
  },
  {
   "cell_type": "code",
   "execution_count": 31,
   "metadata": {},
   "outputs": [],
   "source": [
    "non_null_cleaned_tokens = clean_tokens.filter(col(\"Cleaned Tokens\") != \"\")"
   ]
  },
  {
   "cell_type": "code",
   "execution_count": 32,
   "metadata": {},
   "outputs": [
    {
     "name": "stdout",
     "output_type": "stream",
     "text": [
      "+--------------+\n",
      "|Cleaned Tokens|\n",
      "+--------------+\n",
      "|       article|\n",
      "|          post|\n",
      "|            is|\n",
      "|          part|\n",
      "|            of|\n",
      "|     polyarchy|\n",
      "|            an|\n",
      "|   independent|\n",
      "|          blog|\n",
      "|      produced|\n",
      "|            by|\n",
      "|           the|\n",
      "|     political|\n",
      "|        reform|\n",
      "|       program|\n",
      "|            at|\n",
      "|           new|\n",
      "|       america|\n",
      "|             a|\n",
      "|    washington|\n",
      "+--------------+\n",
      "only showing top 20 rows\n",
      "\n"
     ]
    }
   ],
   "source": [
    "non_null_cleaned_tokens.show()"
   ]
  },
  {
   "cell_type": "code",
   "execution_count": 33,
   "metadata": {},
   "outputs": [],
   "source": [
    "token_groups = non_null_cleaned_tokens.groupby(col(\"Cleaned Tokens\"))"
   ]
  },
  {
   "cell_type": "code",
   "execution_count": 34,
   "metadata": {},
   "outputs": [
    {
     "data": {
      "text/plain": [
       "<pyspark.sql.group.GroupedData at 0x28ef4cc86d0>"
      ]
     },
     "execution_count": 34,
     "metadata": {},
     "output_type": "execute_result"
    }
   ],
   "source": [
    "token_groups"
   ]
  },
  {
   "cell_type": "code",
   "execution_count": 35,
   "metadata": {},
   "outputs": [],
   "source": [
    "token_counts = token_groups.count()"
   ]
  },
  {
   "cell_type": "code",
   "execution_count": 36,
   "metadata": {},
   "outputs": [
    {
     "name": "stdout",
     "output_type": "stream",
     "text": [
      "+--------------+-------+\n",
      "|Cleaned Tokens|  count|\n",
      "+--------------+-------+\n",
      "|          some|1348511|\n",
      "|    likelihood|  12071|\n",
      "|         still| 682599|\n",
      "|         those| 741766|\n",
      "|      tortured|   5220|\n",
      "|        online| 200524|\n",
      "|           few| 380259|\n",
      "|   transaction|  31312|\n",
      "|     indicator|   8984|\n",
      "|     involving|  42441|\n",
      "|      incoming|  12798|\n",
      "|     connected|  40889|\n",
      "|       jewelry|  15130|\n",
      "|        bazaar|   2039|\n",
      "|  safeguarding|   1675|\n",
      "|        filing|  58015|\n",
      "|        brands|  55095|\n",
      "|       flashed|   2282|\n",
      "|   interaction|   9840|\n",
      "|           art| 183475|\n",
      "+--------------+-------+\n",
      "only showing top 20 rows\n",
      "\n"
     ]
    }
   ],
   "source": [
    "token_counts.show()"
   ]
  },
  {
   "cell_type": "code",
   "execution_count": 37,
   "metadata": {},
   "outputs": [
    {
     "name": "stdout",
     "output_type": "stream",
     "text": [
      "+--------------+--------+\n",
      "|Cleaned Tokens|   count|\n",
      "+--------------+--------+\n",
      "|           the|49614097|\n",
      "|            to|25278753|\n",
      "|            of|22664966|\n",
      "|             a|22242784|\n",
      "|           and|21699171|\n",
      "|            in|18907734|\n",
      "|          that|10654902|\n",
      "|            on| 9087425|\n",
      "|           for| 9066347|\n",
      "|            is| 7811476|\n",
      "|            it| 7043139|\n",
      "|          with| 6416271|\n",
      "|            as| 5385847|\n",
      "|            by| 5363492|\n",
      "|           was| 5249367|\n",
      "|          said| 4944904|\n",
      "|            at| 4684935|\n",
      "|            he| 4379023|\n",
      "|          from| 4267604|\n",
      "|           are| 3800689|\n",
      "|            be| 3782725|\n",
      "|           has| 3751435|\n",
      "|          have| 3703778|\n",
      "|           but| 3560702|\n",
      "|            an| 3538650|\n",
      "|             i| 3406538|\n",
      "|          this| 3401500|\n",
      "|           his| 3371237|\n",
      "|           not| 3152063|\n",
      "|           you| 2872337|\n",
      "|          they| 2779378|\n",
      "|          more| 2692541|\n",
      "|           its| 2616173|\n",
      "|           who| 2578406|\n",
      "|          will| 2493764|\n",
      "|         their| 2374196|\n",
      "|         about| 2357556|\n",
      "|            we| 2339416|\n",
      "|            or| 2303646|\n",
      "|           new| 2250637|\n",
      "|           had| 2225702|\n",
      "|         which| 2127790|\n",
      "|           one| 2075520|\n",
      "|           her| 2072795|\n",
      "|         trump| 2016951|\n",
      "|           she| 2003116|\n",
      "|         would| 1986476|\n",
      "|            up| 1912074|\n",
      "|          been| 1869439|\n",
      "|          were| 1852990|\n",
      "|         after| 1849866|\n",
      "|           out| 1702758|\n",
      "|          also| 1697480|\n",
      "|           all| 1677483|\n",
      "|        people| 1673880|\n",
      "|           can| 1656043|\n",
      "|          when| 1647544|\n",
      "|          than| 1549684|\n",
      "|          like| 1531289|\n",
      "|          what| 1486246|\n",
      "|         there| 1485571|\n",
      "|            so| 1482132|\n",
      "|          year| 1480375|\n",
      "|            mr| 1424005|\n",
      "|            if| 1403218|\n",
      "|          over| 1388058|\n",
      "|         first| 1348724|\n",
      "|          some| 1348511|\n",
      "|           two| 1336832|\n",
      "|          into| 1311814|\n",
      "|       percent| 1281056|\n",
      "|         other| 1278639|\n",
      "|             u| 1276708|\n",
      "|          time| 1254426|\n",
      "|          last| 1237274|\n",
      "|     president| 1226881|\n",
      "|          just| 1224300|\n",
      "|       company| 1222047|\n",
      "|         could| 1173180|\n",
      "|            no| 1106479|\n",
      "|           our| 1066656|\n",
      "|           now| 1037935|\n",
      "|       million| 1037572|\n",
      "|          them| 1021216|\n",
      "|            my| 1016348|\n",
      "|         years| 1014736|\n",
      "|            do|  981478|\n",
      "|           how|  969898|\n",
      "|          your|  966904|\n",
      "|          most|  955236|\n",
      "|         while|  947594|\n",
      "|         state|  879958|\n",
      "|           get|  863950|\n",
      "|       because|  850873|\n",
      "|           may|  848894|\n",
      "|          even|  847753|\n",
      "|          only|  836419|\n",
      "|           him|  830422|\n",
      "|         world|  811494|\n",
      "|    government|  810561|\n",
      "+--------------+--------+\n",
      "only showing top 100 rows\n",
      "\n"
     ]
    }
   ],
   "source": [
    "token_counts.orderBy(\"count\",ascending=False).show(100)"
   ]
  },
  {
   "cell_type": "markdown",
   "metadata": {},
   "source": [
    "# We are leaving this task of finding top 100 most frequently occurring tokens as it is at this point of time and we will be back to improve this code after learning about some advancd topics in pyspark dataframes. For time being, we are going to take a diversion and learn about some more basic operations which will lead us to advanced topics. "
   ]
  },
  {
   "cell_type": "code",
   "execution_count": 39,
   "metadata": {},
   "outputs": [
    {
     "name": "stdout",
     "output_type": "stream",
     "text": [
      "+--------------------+--------------------+-------------------+\n",
      "|                 _c0|                 _c1|                _c2|\n",
      "+--------------------+--------------------+-------------------+\n",
      "|                null|          Unnamed: 0|               date|\n",
      "|                   0|                   0|2016-12-09 18:31:00|\n",
      "|                   1|                   1|2016-10-07 21:26:46|\n",
      "|The highest-paid ...|https://www.busin...|               null|\n",
      "|                   2|                   2|2018-01-26 00:00:00|\n",
      "|                   3|                   3|2019-06-27 00:00:00|\n",
      "|                   4|                   4|2016-01-27 00:00:00|\n",
      "|                   5|                   5|2019-06-17 00:00:00|\n",
      "|Editing by Tassil...|https://www.reute...|         Financials|\n",
      "|                   6|                   6|2019-06-23 00:00:00|\n",
      "|                   7|                   7|2018-05-02 17:09:00|\n",
      "|                   8|                   8|2016-05-18 13:00:06|\n",
      "|                   9|                   9|2017-03-02 00:00:00|\n",
      "|                  10|                  10|2019-05-22 20:10:00|\n",
      "|                  11|                  11|2019-06-23 00:00:00|\n",
      "|                  12|                  12|2018-11-05 00:00:00|\n",
      "|                  13|                  13|2019-05-10 00:00:00|\n",
      "|                  14|                  14|2019-03-28 00:00:00|\n",
      "|                  15|                  15|2016-09-08 15:40:02|\n",
      "|                  16|                  16|2017-01-11 23:10:01|\n",
      "+--------------------+--------------------+-------------------+\n",
      "only showing top 20 rows\n",
      "\n"
     ]
    }
   ],
   "source": [
    "data.select(*data.columns[:3]).show()"
   ]
  },
  {
   "cell_type": "code",
   "execution_count": 46,
   "metadata": {},
   "outputs": [
    {
     "name": "stdout",
     "output_type": "stream",
     "text": [
      "+--------------------+--------------------+--------------------+--------------------+--------------------+\n",
      "|                 _c7|                 _c8|                 _c9|                _c10|                _c11|\n",
      "+--------------------+--------------------+--------------------+--------------------+--------------------+\n",
      "|               title|             article|                 url|             section|         publication|\n",
      "|We should take co...|\"This post is par...|             however| several critics ...|         for example|\n",
      "|Colts GM Ryan Gri...| The Indianapolis...|                null|                null|                null|\n",
      "|                null|                null|                null|                null|                null|\n",
      "|Trump denies repo...|DAVOS, Switzerlan...|https://www.reute...|               Davos|             Reuters|\n",
      "|France's Sarkozy ...|PARIS (Reuters) -...|https://www.reute...|          World News|             Reuters|\n",
      "|Paris Hilton: Wom...|\"Paris Hilton arr...|https://www.tmz.c...|                null|                 TMZ|\n",
      "|ECB's Coeure: If ...|BERLIN, June 17 (...|                null|                null|                null|\n",
      "|                null|                null|                null|                null|                null|\n",
      "|Venezuela detains...|CARACAS (Reuters)...|https://www.reute...|          World News|             Reuters|\n",
      "|You Can Trick You...|\"If only every da...|\"\" DeGutis says. ...| paying attention...| it makes it easi...|\n",
      "|How to watch the ...|Google I/O, the c...|https://www.vox.c...|                null|                 Vox|\n",
      "|China is dismissi...|China is dismissi...|https://news.vice...|                null|           Vice News|\n",
      "|“Elizabeth Warren...|Elizabeth Warren ...|https://www.vox.c...|                null|                 Vox|\n",
      "|Hudson's Bay's ch...|(Reuters) - The s...|https://www.reute...|       Business News|             Reuters|\n",
      "|Joakim Noah's Vic...|Joakim Noah's ﻿mo...|https://www.tmz.c...|                null|                 TMZ|\n",
      "|Jermaine Jackson ...|\"Jermaine Jackson...|\"\" \"\"Thriller\"\" a...| and the 2 will f...| Quincy isn't say...|\n",
      "|UK PM May presses...|LONDON (Reuters) ...|https://www.reute...|          World News|             Reuters|\n",
      "|Nancy Pelosi says...|\"Nancy Pelosi is ...|\"\" Skelley says. ...|           of course| but it begins lo...|\n",
      "|The government of...|The nonpartisan d...|https://www.vox.c...|                null|                 Vox|\n",
      "+--------------------+--------------------+--------------------+--------------------+--------------------+\n",
      "only showing top 20 rows\n",
      "\n"
     ]
    }
   ],
   "source": [
    "data.select(*data.columns[7:12]).show()"
   ]
  },
  {
   "cell_type": "code",
   "execution_count": 47,
   "metadata": {},
   "outputs": [
    {
     "name": "stdout",
     "output_type": "stream",
     "text": [
      "+--------------------+--------------------+--------------------+\n",
      "|                 _c7|                _c10|                _c11|\n",
      "+--------------------+--------------------+--------------------+\n",
      "|               title|             section|         publication|\n",
      "|We should take co...| several critics ...|         for example|\n",
      "|Colts GM Ryan Gri...|                null|                null|\n",
      "|                null|                null|                null|\n",
      "|Trump denies repo...|               Davos|             Reuters|\n",
      "|France's Sarkozy ...|          World News|             Reuters|\n",
      "|Paris Hilton: Wom...|                null|                 TMZ|\n",
      "|ECB's Coeure: If ...|                null|                null|\n",
      "|                null|                null|                null|\n",
      "|Venezuela detains...|          World News|             Reuters|\n",
      "|You Can Trick You...| paying attention...| it makes it easi...|\n",
      "|How to watch the ...|                null|                 Vox|\n",
      "|China is dismissi...|                null|           Vice News|\n",
      "|“Elizabeth Warren...|                null|                 Vox|\n",
      "|Hudson's Bay's ch...|       Business News|             Reuters|\n",
      "|Joakim Noah's Vic...|                null|                 TMZ|\n",
      "|Jermaine Jackson ...| and the 2 will f...| Quincy isn't say...|\n",
      "|UK PM May presses...|          World News|             Reuters|\n",
      "|Nancy Pelosi says...|           of course| but it begins lo...|\n",
      "|The government of...|                null|                 Vox|\n",
      "+--------------------+--------------------+--------------------+\n",
      "only showing top 20 rows\n",
      "\n"
     ]
    }
   ],
   "source": [
    "data.select(\"_c7\",\"_c10\",\"_c11\").show()"
   ]
  },
  {
   "cell_type": "code",
   "execution_count": 48,
   "metadata": {},
   "outputs": [
    {
     "name": "stdout",
     "output_type": "stream",
     "text": [
      "+--------------------+--------------------+--------------------+\n",
      "|                 _c7|                _c10|                _c11|\n",
      "+--------------------+--------------------+--------------------+\n",
      "|               title|             section|         publication|\n",
      "|We should take co...| several critics ...|         for example|\n",
      "|Colts GM Ryan Gri...|                null|                null|\n",
      "|                null|                null|                null|\n",
      "|Trump denies repo...|               Davos|             Reuters|\n",
      "|France's Sarkozy ...|          World News|             Reuters|\n",
      "|Paris Hilton: Wom...|                null|                 TMZ|\n",
      "|ECB's Coeure: If ...|                null|                null|\n",
      "|                null|                null|                null|\n",
      "|Venezuela detains...|          World News|             Reuters|\n",
      "|You Can Trick You...| paying attention...| it makes it easi...|\n",
      "|How to watch the ...|                null|                 Vox|\n",
      "|China is dismissi...|                null|           Vice News|\n",
      "|“Elizabeth Warren...|                null|                 Vox|\n",
      "|Hudson's Bay's ch...|       Business News|             Reuters|\n",
      "|Joakim Noah's Vic...|                null|                 TMZ|\n",
      "|Jermaine Jackson ...| and the 2 will f...| Quincy isn't say...|\n",
      "|UK PM May presses...|          World News|             Reuters|\n",
      "|Nancy Pelosi says...|           of course| but it begins lo...|\n",
      "|The government of...|                null|                 Vox|\n",
      "+--------------------+--------------------+--------------------+\n",
      "only showing top 20 rows\n",
      "\n"
     ]
    }
   ],
   "source": [
    "data.select(col(\"_c7\"),col(\"_c10\"),col(\"_c11\")).show()"
   ]
  },
  {
   "cell_type": "code",
   "execution_count": 49,
   "metadata": {},
   "outputs": [],
   "source": [
    "import numpy as np"
   ]
  },
  {
   "cell_type": "code",
   "execution_count": 50,
   "metadata": {},
   "outputs": [],
   "source": [
    "column_chunks = np.array_split(np.array(data.columns),len(data.columns)//3)"
   ]
  },
  {
   "cell_type": "code",
   "execution_count": 51,
   "metadata": {},
   "outputs": [
    {
     "data": {
      "text/plain": [
       "[array(['_c0', '_c1', '_c2'], dtype='<U4'),\n",
       " array(['_c3', '_c4', '_c5'], dtype='<U4'),\n",
       " array(['_c6', '_c7', '_c8'], dtype='<U4'),\n",
       " array(['_c9', '_c10', '_c11'], dtype='<U4')]"
      ]
     },
     "execution_count": 51,
     "metadata": {},
     "output_type": "execute_result"
    }
   ],
   "source": [
    "column_chunks"
   ]
  },
  {
   "cell_type": "code",
   "execution_count": 52,
   "metadata": {},
   "outputs": [
    {
     "name": "stdout",
     "output_type": "stream",
     "text": [
      "+--------------------+--------------------+-------------------+\n",
      "|                 _c0|                 _c1|                _c2|\n",
      "+--------------------+--------------------+-------------------+\n",
      "|                null|          Unnamed: 0|               date|\n",
      "|                   0|                   0|2016-12-09 18:31:00|\n",
      "|                   1|                   1|2016-10-07 21:26:46|\n",
      "|The highest-paid ...|https://www.busin...|               null|\n",
      "|                   2|                   2|2018-01-26 00:00:00|\n",
      "|                   3|                   3|2019-06-27 00:00:00|\n",
      "|                   4|                   4|2016-01-27 00:00:00|\n",
      "|                   5|                   5|2019-06-17 00:00:00|\n",
      "|Editing by Tassil...|https://www.reute...|         Financials|\n",
      "|                   6|                   6|2019-06-23 00:00:00|\n",
      "|                   7|                   7|2018-05-02 17:09:00|\n",
      "|                   8|                   8|2016-05-18 13:00:06|\n",
      "|                   9|                   9|2017-03-02 00:00:00|\n",
      "|                  10|                  10|2019-05-22 20:10:00|\n",
      "|                  11|                  11|2019-06-23 00:00:00|\n",
      "|                  12|                  12|2018-11-05 00:00:00|\n",
      "|                  13|                  13|2019-05-10 00:00:00|\n",
      "|                  14|                  14|2019-03-28 00:00:00|\n",
      "|                  15|                  15|2016-09-08 15:40:02|\n",
      "|                  16|                  16|2017-01-11 23:10:01|\n",
      "+--------------------+--------------------+-------------------+\n",
      "only showing top 20 rows\n",
      "\n",
      "+----------------+-----+----+\n",
      "|             _c3|  _c4| _c5|\n",
      "+----------------+-----+----+\n",
      "|            year|month| day|\n",
      "|            2016| 12.0|   9|\n",
      "|            2016| 10.0|   7|\n",
      "|Business Insider| null|null|\n",
      "|            2018|  1.0|  26|\n",
      "|            2019|  6.0|  27|\n",
      "|            2016|  1.0|  27|\n",
      "|            2019|  6.0|  17|\n",
      "|         Reuters| null|null|\n",
      "|            2019|  6.0|  23|\n",
      "|            2018|  5.0|   2|\n",
      "|            2016|  5.0|  18|\n",
      "|            2017|  3.0|   2|\n",
      "|            2019|  5.0|  22|\n",
      "|            2019|  6.0|  23|\n",
      "|            2018| 11.0|   5|\n",
      "|            2019|  5.0|  10|\n",
      "|            2019|  3.0|  28|\n",
      "|            2016|  9.0|   8|\n",
      "|            2017|  1.0|  11|\n",
      "+----------------+-----+----+\n",
      "only showing top 20 rows\n",
      "\n",
      "+--------------------+--------------------+--------------------+\n",
      "|                 _c6|                 _c7|                 _c8|\n",
      "+--------------------+--------------------+--------------------+\n",
      "|              author|               title|             article|\n",
      "|         Lee Drutman|We should take co...|\"This post is par...|\n",
      "|         Scott Davis|Colts GM Ryan Gri...| The Indianapolis...|\n",
      "|                null|                null|                null|\n",
      "|                null|Trump denies repo...|DAVOS, Switzerlan...|\n",
      "|                null|France's Sarkozy ...|PARIS (Reuters) -...|\n",
      "|                null|Paris Hilton: Wom...|\"Paris Hilton arr...|\n",
      "|                null|ECB's Coeure: If ...|BERLIN, June 17 (...|\n",
      "|                null|                null|                null|\n",
      "|                null|Venezuela detains...|CARACAS (Reuters)...|\n",
      "|   Caroline Williams|You Can Trick You...|\"If only every da...|\n",
      "|         Mark Bergen|How to watch the ...|Google I/O, the c...|\n",
      "|            Tim Hume|China is dismissi...|China is dismissi...|\n",
      "|       Emily Stewart|“Elizabeth Warren...|Elizabeth Warren ...|\n",
      "|Jessica DiNapoli,...|Hudson's Bay's ch...|(Reuters) - The s...|\n",
      "|                null|Joakim Noah's Vic...|Joakim Noah's ﻿mo...|\n",
      "|                null|Jermaine Jackson ...|\"Jermaine Jackson...|\n",
      "|                null|UK PM May presses...|LONDON (Reuters) ...|\n",
      "|          Jeff Stein|Nancy Pelosi says...|\"Nancy Pelosi is ...|\n",
      "|        Libby Nelson|The government of...|The nonpartisan d...|\n",
      "+--------------------+--------------------+--------------------+\n",
      "only showing top 20 rows\n",
      "\n",
      "+--------------------+--------------------+--------------------+\n",
      "|                 _c9|                _c10|                _c11|\n",
      "+--------------------+--------------------+--------------------+\n",
      "|                 url|             section|         publication|\n",
      "|             however| several critics ...|         for example|\n",
      "|                null|                null|                null|\n",
      "|                null|                null|                null|\n",
      "|https://www.reute...|               Davos|             Reuters|\n",
      "|https://www.reute...|          World News|             Reuters|\n",
      "|https://www.tmz.c...|                null|                 TMZ|\n",
      "|                null|                null|                null|\n",
      "|                null|                null|                null|\n",
      "|https://www.reute...|          World News|             Reuters|\n",
      "|\"\" DeGutis says. ...| paying attention...| it makes it easi...|\n",
      "|https://www.vox.c...|                null|                 Vox|\n",
      "|https://news.vice...|                null|           Vice News|\n",
      "|https://www.vox.c...|                null|                 Vox|\n",
      "|https://www.reute...|       Business News|             Reuters|\n",
      "|https://www.tmz.c...|                null|                 TMZ|\n",
      "|\"\" \"\"Thriller\"\" a...| and the 2 will f...| Quincy isn't say...|\n",
      "|https://www.reute...|          World News|             Reuters|\n",
      "|\"\" Skelley says. ...|           of course| but it begins lo...|\n",
      "|https://www.vox.c...|                null|                 Vox|\n",
      "+--------------------+--------------------+--------------------+\n",
      "only showing top 20 rows\n",
      "\n"
     ]
    }
   ],
   "source": [
    "for x in column_chunks:\n",
    "    data.select(*x).show()"
   ]
  },
  {
   "cell_type": "code",
   "execution_count": 53,
   "metadata": {},
   "outputs": [],
   "source": [
    "dropped_data = data.drop(*data.columns[:7])"
   ]
  },
  {
   "cell_type": "code",
   "execution_count": 55,
   "metadata": {},
   "outputs": [
    {
     "name": "stdout",
     "output_type": "stream",
     "text": [
      "+--------------------+--------------------+--------------------+--------------------+--------------------+\n",
      "|                 _c7|                 _c8|                 _c9|                _c10|                _c11|\n",
      "+--------------------+--------------------+--------------------+--------------------+--------------------+\n",
      "|               title|             article|                 url|             section|         publication|\n",
      "|We should take co...|\"This post is par...|             however| several critics ...|         for example|\n",
      "|Colts GM Ryan Gri...| The Indianapolis...|                null|                null|                null|\n",
      "|                null|                null|                null|                null|                null|\n",
      "|Trump denies repo...|DAVOS, Switzerlan...|https://www.reute...|               Davos|             Reuters|\n",
      "|France's Sarkozy ...|PARIS (Reuters) -...|https://www.reute...|          World News|             Reuters|\n",
      "|Paris Hilton: Wom...|\"Paris Hilton arr...|https://www.tmz.c...|                null|                 TMZ|\n",
      "|ECB's Coeure: If ...|BERLIN, June 17 (...|                null|                null|                null|\n",
      "|                null|                null|                null|                null|                null|\n",
      "|Venezuela detains...|CARACAS (Reuters)...|https://www.reute...|          World News|             Reuters|\n",
      "|You Can Trick You...|\"If only every da...|\"\" DeGutis says. ...| paying attention...| it makes it easi...|\n",
      "|How to watch the ...|Google I/O, the c...|https://www.vox.c...|                null|                 Vox|\n",
      "|China is dismissi...|China is dismissi...|https://news.vice...|                null|           Vice News|\n",
      "|“Elizabeth Warren...|Elizabeth Warren ...|https://www.vox.c...|                null|                 Vox|\n",
      "|Hudson's Bay's ch...|(Reuters) - The s...|https://www.reute...|       Business News|             Reuters|\n",
      "|Joakim Noah's Vic...|Joakim Noah's ﻿mo...|https://www.tmz.c...|                null|                 TMZ|\n",
      "|Jermaine Jackson ...|\"Jermaine Jackson...|\"\" \"\"Thriller\"\" a...| and the 2 will f...| Quincy isn't say...|\n",
      "|UK PM May presses...|LONDON (Reuters) ...|https://www.reute...|          World News|             Reuters|\n",
      "|Nancy Pelosi says...|\"Nancy Pelosi is ...|\"\" Skelley says. ...|           of course| but it begins lo...|\n",
      "|The government of...|The nonpartisan d...|https://www.vox.c...|                null|                 Vox|\n",
      "+--------------------+--------------------+--------------------+--------------------+--------------------+\n",
      "only showing top 20 rows\n",
      "\n"
     ]
    }
   ],
   "source": [
    "dropped_data.show()"
   ]
  },
  {
   "cell_type": "code",
   "execution_count": 56,
   "metadata": {},
   "outputs": [],
   "source": [
    "D = dict(zip(dropped_data.columns,['title','article','url','section','publication']))"
   ]
  },
  {
   "cell_type": "code",
   "execution_count": 57,
   "metadata": {},
   "outputs": [
    {
     "data": {
      "text/plain": [
       "{'_c7': 'title',\n",
       " '_c8': 'article',\n",
       " '_c9': 'url',\n",
       " '_c10': 'section',\n",
       " '_c11': 'publication'}"
      ]
     },
     "execution_count": 57,
     "metadata": {},
     "output_type": "execute_result"
    }
   ],
   "source": [
    "D"
   ]
  },
  {
   "cell_type": "code",
   "execution_count": 58,
   "metadata": {},
   "outputs": [],
   "source": [
    "for old_name,new_name in D.items():\n",
    "    dropped_data = dropped_data.withColumnRenamed(old_name,new_name)"
   ]
  },
  {
   "cell_type": "code",
   "execution_count": 60,
   "metadata": {},
   "outputs": [
    {
     "name": "stdout",
     "output_type": "stream",
     "text": [
      "+--------------------+--------------------+--------------------+--------------------+--------------------+\n",
      "|               title|             article|                 url|             section|         publication|\n",
      "+--------------------+--------------------+--------------------+--------------------+--------------------+\n",
      "|               title|             article|                 url|             section|         publication|\n",
      "|We should take co...|\"This post is par...|             however| several critics ...|         for example|\n",
      "|Colts GM Ryan Gri...| The Indianapolis...|                null|                null|                null|\n",
      "|                null|                null|                null|                null|                null|\n",
      "|Trump denies repo...|DAVOS, Switzerlan...|https://www.reute...|               Davos|             Reuters|\n",
      "|France's Sarkozy ...|PARIS (Reuters) -...|https://www.reute...|          World News|             Reuters|\n",
      "|Paris Hilton: Wom...|\"Paris Hilton arr...|https://www.tmz.c...|                null|                 TMZ|\n",
      "|ECB's Coeure: If ...|BERLIN, June 17 (...|                null|                null|                null|\n",
      "|                null|                null|                null|                null|                null|\n",
      "|Venezuela detains...|CARACAS (Reuters)...|https://www.reute...|          World News|             Reuters|\n",
      "|You Can Trick You...|\"If only every da...|\"\" DeGutis says. ...| paying attention...| it makes it easi...|\n",
      "|How to watch the ...|Google I/O, the c...|https://www.vox.c...|                null|                 Vox|\n",
      "|China is dismissi...|China is dismissi...|https://news.vice...|                null|           Vice News|\n",
      "|“Elizabeth Warren...|Elizabeth Warren ...|https://www.vox.c...|                null|                 Vox|\n",
      "|Hudson's Bay's ch...|(Reuters) - The s...|https://www.reute...|       Business News|             Reuters|\n",
      "|Joakim Noah's Vic...|Joakim Noah's ﻿mo...|https://www.tmz.c...|                null|                 TMZ|\n",
      "|Jermaine Jackson ...|\"Jermaine Jackson...|\"\" \"\"Thriller\"\" a...| and the 2 will f...| Quincy isn't say...|\n",
      "|UK PM May presses...|LONDON (Reuters) ...|https://www.reute...|          World News|             Reuters|\n",
      "|Nancy Pelosi says...|\"Nancy Pelosi is ...|\"\" Skelley says. ...|           of course| but it begins lo...|\n",
      "|The government of...|The nonpartisan d...|https://www.vox.c...|                null|                 Vox|\n",
      "+--------------------+--------------------+--------------------+--------------------+--------------------+\n",
      "only showing top 20 rows\n",
      "\n"
     ]
    }
   ],
   "source": [
    "dropped_data.show()"
   ]
  },
  {
   "cell_type": "code",
   "execution_count": 61,
   "metadata": {},
   "outputs": [],
   "source": [
    "data_copy = spark.read.csv(\"all-the-news-2-1.csv\",inferSchema=True)"
   ]
  },
  {
   "cell_type": "code",
   "execution_count": null,
   "metadata": {},
   "outputs": [],
   "source": []
  },
  {
   "cell_type": "code",
   "execution_count": null,
   "metadata": {},
   "outputs": [],
   "source": []
  }
 ],
 "metadata": {
  "kernelspec": {
   "display_name": "Python 3",
   "language": "python",
   "name": "python3"
  },
  "language_info": {
   "codemirror_mode": {
    "name": "ipython",
    "version": 3
   },
   "file_extension": ".py",
   "mimetype": "text/x-python",
   "name": "python",
   "nbconvert_exporter": "python",
   "pygments_lexer": "ipython3",
   "version": "3.8.5"
  }
 },
 "nbformat": 4,
 "nbformat_minor": 4
}
