{
 "cells": [
  {
   "cell_type": "code",
   "execution_count": 1,
   "id": "cf53382b",
   "metadata": {},
   "outputs": [],
   "source": [
    "from pyspark.sql import SparkSession\n",
    "import pyspark.sql.functions as F"
   ]
  },
  {
   "cell_type": "code",
   "execution_count": 2,
   "id": "1b0dc1e0",
   "metadata": {},
   "outputs": [],
   "source": [
    "spark = (SparkSession.builder.appName(\"Compute BoW Vectors\").getOrCreate())"
   ]
  },
  {
   "cell_type": "code",
   "execution_count": null,
   "id": "e592ef1d",
   "metadata": {},
   "outputs": [],
   "source": [
    "results = (\n",
    "    spark.read.text(\"all-the-news-2-1.csv\")\n",
    "    .select(F.split(F.col(\"_c8\"), \" \").alias(\"article\"))\n",
    "    .select(F.explode(F.col(\"article\")).alias(\"tokens\"))\n",
    "    .select(F.lower(F.col(\"tokens\")).alias(\"normalized tokens\"))\n",
    "    .select(F.regexp_extract(F.col(\"normalized tokens\"), \"[a-z']*\", 0).alias(\"cleaned tokens\"))\n",
    "    .where(F.col(\"cleaned tokens\") != \"\")\n",
    "    .groupby(\"cleaned tokens\")\n",
    "    .count()\n",
    ")"
   ]
  }
 ],
 "metadata": {
  "kernelspec": {
   "display_name": "Python 3",
   "language": "python",
   "name": "python3"
  },
  "language_info": {
   "codemirror_mode": {
    "name": "ipython",
    "version": 3
   },
   "file_extension": ".py",
   "mimetype": "text/x-python",
   "name": "python",
   "nbconvert_exporter": "python",
   "pygments_lexer": "ipython3",
   "version": "3.8.8"
  }
 },
 "nbformat": 4,
 "nbformat_minor": 5
}
